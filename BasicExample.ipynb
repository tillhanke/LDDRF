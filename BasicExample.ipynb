{
 "cells": [
  {
   "cell_type": "code",
   "execution_count": 3,
   "id": "ae3e2bc8-bcc8-48d2-a6c4-5a13a28f5e54",
   "metadata": {},
   "outputs": [],
   "source": [
    "from LDDRF import LDDRF\n",
    "from pyscf.gto import Mole"
   ]
  },
  {
   "cell_type": "markdown",
   "id": "091a88f2-d7e3-4fd0-8c39-a8332ccb8733",
   "metadata": {},
   "source": [
    "# Setup molecule from pyscf\n",
    "The definition of molecules can be looked up in the pyscf documentation. Here we use the basic gto.Mole class \n",
    "with a basis set, that has proven to be working.\n",
    "\n",
    "In general most information can be found in the pyscf documentation."
   ]
  },
  {
   "cell_type": "code",
   "execution_count": 8,
   "id": "310d1217-4f18-479f-b1f7-1d0356e46ef8",
   "metadata": {},
   "outputs": [
    {
     "data": {
      "text/plain": [
       "<pyscf.gto.mole.Mole at 0x7f259a1785b0>"
      ]
     },
     "execution_count": 8,
     "metadata": {},
     "output_type": "execute_result"
    }
   ],
   "source": [
    "h2o  = Mole(atom=\"\"\"\n",
    "O -2.6858515411731787e-12 0.127373521194299 -1.0816276436015577e-14\n",
    "H -1.4405336573468623 -1.0189881695842284 6.051877082186036e-14\n",
    "H 1.4405336573898366 -1.018988169524555 1.1254165215438894e-13\n",
    "\"\"\",\n",
    "           basis=\"def2qzvp\",\n",
    "           unit=\"BOHR\")\n",
    "h2o.build()"
   ]
  },
  {
   "cell_type": "markdown",
   "id": "ec229e46-c860-4923-94e8-f4b4207f12ac",
   "metadata": {},
   "source": [
    "# Setup potential basis set\n",
    "In order to calculate the moment expanded states a external potential basis set is needed. It has to be defined on the realspace points of a grid. Here we are using the h2o specific grid generated via the Lebedev-Laikov algorithm."
   ]
  },
  {
   "cell_type": "code",
   "execution_count": 10,
   "id": "0b482f7d-6adf-47bd-971b-b9f5b352357e",
   "metadata": {},
   "outputs": [
    {
     "name": "stdout",
     "output_type": "stream",
     "text": [
      "converged SCF energy = -76.4353699828098\n"
     ]
    }
   ],
   "source": [
    "from LDDRF.potential import basis\n",
    "from pyscf.dft import Grids\n",
    "\n",
    "grid = Grids(h2o)\n",
    "grid.build()\n",
    "potential_basis = basis.generate_monomial_basis(mol=h2o, order=3, grid=grid)"
   ]
  },
  {
   "cell_type": "code",
   "execution_count": null,
   "id": "9d7f6ecd-4662-48fd-b436-996eb5ad5aef",
   "metadata": {},
   "outputs": [
    {
     "name": "stdout",
     "output_type": "stream",
     "text": [
      "converged SCF energy = -76.4353699828098\n",
      "\n",
      "WARN: Using developement Version\n",
      "Git Commit: b6573cac4227b154384a96277ba3f9b9537a883f\n",
      "\n",
      "converged SCF energy = -76.4353699829137\n",
      "Relative energy difference: 1.3592602331382428e-12\n",
      "converged SCF energy = -76.435371206976\n",
      "Relative energy difference: 1.6015703547207905e-08\n",
      "converged SCF energy = -76.4353699829584\n",
      "Relative energy difference: 1.945093770905799e-12\n",
      "converged SCF energy = -76.4353349175259\n",
      "Relative energy difference: 4.5875729807672976e-07\n",
      "converged SCF energy = -76.4353699829748\n",
      "Relative energy difference: 2.159087551283602e-12\n",
      "converged SCF energy = -76.4353372205849\n",
      "Relative energy difference: 4.2862649691504624e-07\n",
      "converged SCF energy = -76.435369982922\n",
      "Relative energy difference: 1.4678374422960508e-12\n",
      "converged SCF energy = -76.4353699829125\n",
      "Relative energy difference: 1.3436429633278733e-12\n",
      "converged SCF energy = -76.4353340013101\n",
      "Relative energy difference: 4.7074410297902937e-07\n",
      "converged SCF energy = -76.4353699872159\n",
      "Relative energy difference: 5.764501614898258e-11\n",
      "converged SCF energy = -76.4353825684955\n",
      "Relative energy difference: 1.646578766695441e-07\n",
      "converged SCF energy = -76.4353699837589\n",
      "Relative energy difference: 1.2417030938394725e-11\n",
      "converged SCF energy = -76.4353699834182\n",
      "Relative energy difference: 7.959973686442447e-12\n",
      "converged SCF energy = -76.435379319643\n",
      "Relative energy difference: 1.2215330775339838e-07\n"
     ]
    }
   ],
   "source": [
    "h2orf = LDDRF(\n",
    "    mol=h2o, pot_base=potential_basis, grid=grid\n",
    ")\n",
    "h2orf.build()  # initializes all neccessary data within the LDDRF object\n",
    "h2orf.kernel()  # actually calculates the moments by running scf calculations"
   ]
  },
  {
   "cell_type": "code",
   "execution_count": null,
   "id": "242e81d4-79f4-48a5-a0b1-956d2c82b1aa",
   "metadata": {},
   "outputs": [],
   "source": []
  }
 ],
 "metadata": {
  "kernelspec": {
   "display_name": "LDDRF",
   "language": "python",
   "name": "lddrf"
  },
  "language_info": {
   "codemirror_mode": {
    "name": "ipython",
    "version": 3
   },
   "file_extension": ".py",
   "mimetype": "text/x-python",
   "name": "python",
   "nbconvert_exporter": "python",
   "pygments_lexer": "ipython3",
   "version": "3.9.2"
  }
 },
 "nbformat": 4,
 "nbformat_minor": 5
}
